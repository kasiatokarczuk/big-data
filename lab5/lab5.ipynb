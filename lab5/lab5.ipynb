{
 "cells": [
  {
   "cell_type": "code",
   "execution_count": 0,
   "metadata": {
    "application/vnd.databricks.v1+cell": {
     "cellMetadata": {
      "byteLimit": 2048000,
      "rowLimit": 10000
     },
     "inputWidgets": {},
     "nuid": "b1d2d887-775f-41dc-bf1c-538f6f049490",
     "showTitle": false,
     "tableResultSettingsMap": {},
     "title": ""
    }
   },
   "outputs": [],
   "source": [
    "from pyspark.sql.functions import first, rand, count, col, rand"
   ]
  },
  {
   "cell_type": "code",
   "execution_count": 0,
   "metadata": {
    "application/vnd.databricks.v1+cell": {
     "cellMetadata": {
      "byteLimit": 2048000,
      "rowLimit": 10000
     },
     "inputWidgets": {},
     "nuid": "f2d0610e-730b-4ea8-8e91-3aec7f74096b",
     "showTitle": false,
     "tableResultSettingsMap": {},
     "title": ""
    }
   },
   "outputs": [
    {
     "output_type": "stream",
     "name": "stdout",
     "output_type": "stream",
     "text": [
      "+---+------+----+---------+------+----+\n|key|    id|val1|duplicate|    id|val2|\n+---+------+----+---------+------+----+\n| 26| 92992|  88|       51|816674|   6|\n| 26|181927|  98|       44|816674|   6|\n| 34|298949|  58|       10|143891|  67|\n| 34|298949|  58|       10|655302|  60|\n| 34|298949|  58|       10|805859|  14|\n| 34|298949|  58|       10|911604|  82|\n| 44| 19094|  72|        3|814402|  37|\n| 44|370190|  46|       37|814402|  37|\n| 53|573602|  66|       73|414455|  50|\n| 78|482205|  90|       76|723033|  97|\n+---+------+----+---------+------+----+\nonly showing top 10 rows\n\n+------+------+----+---------+------+----+\n|   key|    id|val1|duplicate|    id|val2|\n+------+------+----+---------+------+----+\n| 12207|     4|  77|       62|240274|  84|\n| 12207|     4|  77|       62|485462|  65|\n| 91446|250008|  19|       83| 52443|  70|\n| 91446|250008|  19|       83|882080|  88|\n|397671|750007|  89|       19|516347|  26|\n|397863|    10|  46|       68|119427|  94|\n|439488|500002|  89|       42|845312|  36|\n|477028|     6|  93|       48|  null|null|\n|589389|625005|  96|       49|  null|null|\n|653003|375010|   5|       38|226481|  20|\n+------+------+----+---------+------+----+\nonly showing top 10 rows\n\n"
     ]
    }
   ],
   "source": [
    "# Tworzenie pierwszej tabeli\n",
    "df1 = spark.range(0, 1000000).withColumn(\"key\", (rand() * 1000000).cast(\"int\")) \\\n",
    "    .withColumn(\"val1\", (rand() * 100).cast(\"int\")) \\\n",
    "    .withColumn(\"duplicate\", (rand() * 100).cast(\"int\")) \n",
    "\n",
    "# Tworzenie drugiej tabeli\n",
    "df2 = spark.range(0, 1000000).withColumn(\"key\", (rand() * 1000000).cast(\"int\")) \\\n",
    "    .withColumn(\"val2\", (rand() * 100).cast(\"int\")) \\\n",
    "    .withColumn(\"duplicate\", (rand() * 100).cast(\"int\"))\n",
    "\n",
    "# Inner join\n",
    "df_inner = df1.join(df2, \"key\", \"inner\")\n",
    "\n",
    "# Left join\n",
    "df_left = df1.join(df2, \"key\", \"left\")\n",
    "\n",
    "# Usuwanie duplikatów\n",
    "df_inner_cleaned = df_inner.drop(df2.duplicate)  \n",
    "df_left_cleaned = df_left.drop(df2.duplicate)\n",
    "\n",
    "display(df_inner_cleaned.show(10))\n",
    "display(df_left_cleaned.show(10))"
   ]
  },
  {
   "cell_type": "code",
   "execution_count": 0,
   "metadata": {
    "application/vnd.databricks.v1+cell": {
     "cellMetadata": {},
     "inputWidgets": {},
     "nuid": "66583050-4181-4ef8-8c02-216ffc6e7c6b",
     "showTitle": false,
     "tableResultSettingsMap": {},
     "title": ""
    }
   },
   "outputs": [],
   "source": []
  }
 ],
 "metadata": {
  "application/vnd.databricks.v1+notebook": {
   "computePreferences": null,
   "dashboards": [],
   "environmentMetadata": {
    "base_environment": "",
    "environment_version": "1"
   },
   "inputWidgetPreferences": null,
   "language": "python",
   "notebookMetadata": {
    "pythonIndentUnit": 4
   },
   "notebookName": "lab5",
   "widgets": {}
  }
 },
 "nbformat": 4,
 "nbformat_minor": 0
}